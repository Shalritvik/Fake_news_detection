{
 "cells": [
  {
   "cell_type": "code",
   "execution_count": 4,
   "metadata": {},
   "outputs": [],
   "source": [
    "import numpy as np\n",
    "import pandas as pd \n",
    "\n",
    "from sklearn.model_selection import train_test_split\n",
    "from sklearn.feature_extraction.text import TfidfVectorizer\n",
    "from sklearn.svm import LinearSVC"
   ]
  },
  {
   "cell_type": "code",
   "execution_count": 5,
   "metadata": {},
   "outputs": [],
   "source": [
    "data = pd.read_csv(\"fake_or_real_news.csv\")"
   ]
  },
  {
   "cell_type": "code",
   "execution_count": 6,
   "metadata": {},
   "outputs": [
    {
     "data": {
      "text/html": [
       "<div>\n",
       "<style scoped>\n",
       "    .dataframe tbody tr th:only-of-type {\n",
       "        vertical-align: middle;\n",
       "    }\n",
       "\n",
       "    .dataframe tbody tr th {\n",
       "        vertical-align: top;\n",
       "    }\n",
       "\n",
       "    .dataframe thead th {\n",
       "        text-align: right;\n",
       "    }\n",
       "</style>\n",
       "<table border=\"1\" class=\"dataframe\">\n",
       "  <thead>\n",
       "    <tr style=\"text-align: right;\">\n",
       "      <th></th>\n",
       "      <th>id</th>\n",
       "      <th>title</th>\n",
       "      <th>text</th>\n",
       "      <th>label</th>\n",
       "    </tr>\n",
       "  </thead>\n",
       "  <tbody>\n",
       "    <tr>\n",
       "      <th>0</th>\n",
       "      <td>8476</td>\n",
       "      <td>You Can Smell Hillary’s Fear</td>\n",
       "      <td>Daniel Greenfield, a Shillman Journalism Fello...</td>\n",
       "      <td>FAKE</td>\n",
       "    </tr>\n",
       "    <tr>\n",
       "      <th>1</th>\n",
       "      <td>10294</td>\n",
       "      <td>Watch The Exact Moment Paul Ryan Committed Pol...</td>\n",
       "      <td>Google Pinterest Digg Linkedin Reddit Stumbleu...</td>\n",
       "      <td>FAKE</td>\n",
       "    </tr>\n",
       "    <tr>\n",
       "      <th>2</th>\n",
       "      <td>3608</td>\n",
       "      <td>Kerry to go to Paris in gesture of sympathy</td>\n",
       "      <td>U.S. Secretary of State John F. Kerry said Mon...</td>\n",
       "      <td>REAL</td>\n",
       "    </tr>\n",
       "    <tr>\n",
       "      <th>3</th>\n",
       "      <td>10142</td>\n",
       "      <td>Bernie supporters on Twitter erupt in anger ag...</td>\n",
       "      <td>— Kaydee King (@KaydeeKing) November 9, 2016 T...</td>\n",
       "      <td>FAKE</td>\n",
       "    </tr>\n",
       "    <tr>\n",
       "      <th>4</th>\n",
       "      <td>875</td>\n",
       "      <td>The Battle of New York: Why This Primary Matters</td>\n",
       "      <td>It's primary day in New York and front-runners...</td>\n",
       "      <td>REAL</td>\n",
       "    </tr>\n",
       "    <tr>\n",
       "      <th>...</th>\n",
       "      <td>...</td>\n",
       "      <td>...</td>\n",
       "      <td>...</td>\n",
       "      <td>...</td>\n",
       "    </tr>\n",
       "    <tr>\n",
       "      <th>6330</th>\n",
       "      <td>4490</td>\n",
       "      <td>State Department says it can't find emails fro...</td>\n",
       "      <td>The State Department told the Republican Natio...</td>\n",
       "      <td>REAL</td>\n",
       "    </tr>\n",
       "    <tr>\n",
       "      <th>6331</th>\n",
       "      <td>8062</td>\n",
       "      <td>The ‘P’ in PBS Should Stand for ‘Plutocratic’ ...</td>\n",
       "      <td>The ‘P’ in PBS Should Stand for ‘Plutocratic’ ...</td>\n",
       "      <td>FAKE</td>\n",
       "    </tr>\n",
       "    <tr>\n",
       "      <th>6332</th>\n",
       "      <td>8622</td>\n",
       "      <td>Anti-Trump Protesters Are Tools of the Oligarc...</td>\n",
       "      <td>Anti-Trump Protesters Are Tools of the Oligar...</td>\n",
       "      <td>FAKE</td>\n",
       "    </tr>\n",
       "    <tr>\n",
       "      <th>6333</th>\n",
       "      <td>4021</td>\n",
       "      <td>In Ethiopia, Obama seeks progress on peace, se...</td>\n",
       "      <td>ADDIS ABABA, Ethiopia —President Obama convene...</td>\n",
       "      <td>REAL</td>\n",
       "    </tr>\n",
       "    <tr>\n",
       "      <th>6334</th>\n",
       "      <td>4330</td>\n",
       "      <td>Jeb Bush Is Suddenly Attacking Trump. Here's W...</td>\n",
       "      <td>Jeb Bush Is Suddenly Attacking Trump. Here's W...</td>\n",
       "      <td>REAL</td>\n",
       "    </tr>\n",
       "  </tbody>\n",
       "</table>\n",
       "<p>6335 rows × 4 columns</p>\n",
       "</div>"
      ],
      "text/plain": [
       "         id                                              title  \\\n",
       "0      8476                       You Can Smell Hillary’s Fear   \n",
       "1     10294  Watch The Exact Moment Paul Ryan Committed Pol...   \n",
       "2      3608        Kerry to go to Paris in gesture of sympathy   \n",
       "3     10142  Bernie supporters on Twitter erupt in anger ag...   \n",
       "4       875   The Battle of New York: Why This Primary Matters   \n",
       "...     ...                                                ...   \n",
       "6330   4490  State Department says it can't find emails fro...   \n",
       "6331   8062  The ‘P’ in PBS Should Stand for ‘Plutocratic’ ...   \n",
       "6332   8622  Anti-Trump Protesters Are Tools of the Oligarc...   \n",
       "6333   4021  In Ethiopia, Obama seeks progress on peace, se...   \n",
       "6334   4330  Jeb Bush Is Suddenly Attacking Trump. Here's W...   \n",
       "\n",
       "                                                   text label  \n",
       "0     Daniel Greenfield, a Shillman Journalism Fello...  FAKE  \n",
       "1     Google Pinterest Digg Linkedin Reddit Stumbleu...  FAKE  \n",
       "2     U.S. Secretary of State John F. Kerry said Mon...  REAL  \n",
       "3     — Kaydee King (@KaydeeKing) November 9, 2016 T...  FAKE  \n",
       "4     It's primary day in New York and front-runners...  REAL  \n",
       "...                                                 ...   ...  \n",
       "6330  The State Department told the Republican Natio...  REAL  \n",
       "6331  The ‘P’ in PBS Should Stand for ‘Plutocratic’ ...  FAKE  \n",
       "6332   Anti-Trump Protesters Are Tools of the Oligar...  FAKE  \n",
       "6333  ADDIS ABABA, Ethiopia —President Obama convene...  REAL  \n",
       "6334  Jeb Bush Is Suddenly Attacking Trump. Here's W...  REAL  \n",
       "\n",
       "[6335 rows x 4 columns]"
      ]
     },
     "execution_count": 6,
     "metadata": {},
     "output_type": "execute_result"
    }
   ],
   "source": [
    "data"
   ]
  },
  {
   "cell_type": "code",
   "execution_count": 7,
   "metadata": {},
   "outputs": [],
   "source": [
    "data['fake']= data['label'].apply(lambda x: 0 if x == \"REAL\" else 1)"
   ]
  },
  {
   "cell_type": "code",
   "execution_count": 8,
   "metadata": {},
   "outputs": [],
   "source": [
    "data = data.drop(\"label\", axis = 1)"
   ]
  },
  {
   "cell_type": "code",
   "execution_count": 9,
   "metadata": {},
   "outputs": [],
   "source": [
    "X,y =data['text'],data['fake']"
   ]
  },
  {
   "cell_type": "code",
   "execution_count": 10,
   "metadata": {},
   "outputs": [
    {
     "data": {
      "text/plain": [
       "0       Daniel Greenfield, a Shillman Journalism Fello...\n",
       "1       Google Pinterest Digg Linkedin Reddit Stumbleu...\n",
       "2       U.S. Secretary of State John F. Kerry said Mon...\n",
       "3       — Kaydee King (@KaydeeKing) November 9, 2016 T...\n",
       "4       It's primary day in New York and front-runners...\n",
       "                              ...                        \n",
       "6330    The State Department told the Republican Natio...\n",
       "6331    The ‘P’ in PBS Should Stand for ‘Plutocratic’ ...\n",
       "6332     Anti-Trump Protesters Are Tools of the Oligar...\n",
       "6333    ADDIS ABABA, Ethiopia —President Obama convene...\n",
       "6334    Jeb Bush Is Suddenly Attacking Trump. Here's W...\n",
       "Name: text, Length: 6335, dtype: object"
      ]
     },
     "execution_count": 10,
     "metadata": {},
     "output_type": "execute_result"
    }
   ],
   "source": [
    "X"
   ]
  },
  {
   "cell_type": "code",
   "execution_count": 11,
   "metadata": {},
   "outputs": [
    {
     "data": {
      "text/plain": [
       "0       1\n",
       "1       1\n",
       "2       0\n",
       "3       1\n",
       "4       0\n",
       "       ..\n",
       "6330    0\n",
       "6331    1\n",
       "6332    1\n",
       "6333    0\n",
       "6334    0\n",
       "Name: fake, Length: 6335, dtype: int64"
      ]
     },
     "execution_count": 11,
     "metadata": {},
     "output_type": "execute_result"
    }
   ],
   "source": [
    "y"
   ]
  },
  {
   "cell_type": "code",
   "execution_count": 12,
   "metadata": {},
   "outputs": [],
   "source": [
    "X_train,X_test,y_train,y_test = train_test_split(X,y,test_size=0.2)"
   ]
  },
  {
   "cell_type": "code",
   "execution_count": 15,
   "metadata": {},
   "outputs": [
    {
     "name": "stdout",
     "output_type": "stream",
     "text": [
      "207     Hillary Melts Down Over Weiner In Public, PICS...\n",
      "5085    Watch the CNN Republican debate Tuesday, Decem...\n",
      "5167    Republican legislators have repeatedly tried t...\n",
      "2097    Migrant Crisis Disclaimer \\nWe here at the Dai...\n",
      "1666    October 28, 2016 Venezuela crisis enters dange...\n",
      "                              ...                        \n",
      "128     1 Reply \\nTyler Durden – Perhaps the most bene...\n",
      "2496    Syrian President Bashar Assad says that his go...\n",
      "4433    Email \\n\\nIt appears Bill and Hillary Clinton ...\n",
      "4150    I look forward to the bubble bursting again in...\n",
      "6218    Concord, New Hampshire (CNN) Jeb Bush is sharp...\n",
      "Name: text, Length: 5068, dtype: object\n"
     ]
    },
    {
     "data": {
      "text/plain": [
       "5068"
      ]
     },
     "execution_count": 15,
     "metadata": {},
     "output_type": "execute_result"
    }
   ],
   "source": [
    "print(X_train)\n",
    "len(X_train)"
   ]
  },
  {
   "cell_type": "code",
   "execution_count": 16,
   "metadata": {},
   "outputs": [
    {
     "name": "stdout",
     "output_type": "stream",
     "text": [
      "3326    License DMCA \\nIn an explosive interview, Newt...\n",
      "5161    Implausible schemes to put Mike Pence, rather ...\n",
      "3198    President Obama will not endorse a Democratic ...\n",
      "736     For the first time, nearly all of the countrie...\n",
      "2668    Killing Obama administration rules, dismantlin...\n",
      "                              ...                        \n",
      "2130    Washington (CNN) The House Benghazi committee ...\n",
      "1177    Milestone House Vote Would Take Health Care Aw...\n",
      "2259    (7 fans) - Advertisement - \\nHillary Clinton i...\n",
      "4317    Next Swipe left/right Newsnight trolled the To...\n",
      "6293    23 Shares\\n4 18 0 1\\nA top aide to Hillary Cli...\n",
      "Name: text, Length: 1267, dtype: object\n"
     ]
    },
    {
     "data": {
      "text/plain": [
       "1267"
      ]
     },
     "execution_count": 16,
     "metadata": {},
     "output_type": "execute_result"
    }
   ],
   "source": [
    "print(X_test)\n",
    "len(X_test)"
   ]
  },
  {
   "cell_type": "code",
   "execution_count": 18,
   "metadata": {},
   "outputs": [
    {
     "name": "stdout",
     "output_type": "stream",
     "text": [
      "207     1\n",
      "5085    0\n",
      "5167    0\n",
      "2097    1\n",
      "1666    1\n",
      "       ..\n",
      "128     1\n",
      "2496    0\n",
      "4433    1\n",
      "4150    1\n",
      "6218    0\n",
      "Name: fake, Length: 5068, dtype: int64\n"
     ]
    },
    {
     "data": {
      "text/plain": [
       "5068"
      ]
     },
     "execution_count": 18,
     "metadata": {},
     "output_type": "execute_result"
    }
   ],
   "source": [
    "print(y_train)\n",
    "len(y_train)"
   ]
  },
  {
   "cell_type": "code",
   "execution_count": 19,
   "metadata": {},
   "outputs": [
    {
     "name": "stdout",
     "output_type": "stream",
     "text": [
      "3326    1\n",
      "5161    0\n",
      "3198    0\n",
      "736     0\n",
      "2668    0\n",
      "       ..\n",
      "2130    0\n",
      "1177    0\n",
      "2259    1\n",
      "4317    1\n",
      "6293    1\n",
      "Name: fake, Length: 1267, dtype: int64\n"
     ]
    },
    {
     "data": {
      "text/plain": [
       "1267"
      ]
     },
     "execution_count": 19,
     "metadata": {},
     "output_type": "execute_result"
    }
   ],
   "source": [
    "print(y_test)\n",
    "len(y_test)"
   ]
  },
  {
   "cell_type": "code",
   "execution_count": 20,
   "metadata": {},
   "outputs": [],
   "source": [
    "vectorizer = TfidfVectorizer(stop_words = \"english\", max_df=0.7)\n",
    "X_train_vectorized = vectorizer.fit_transform(X_train)\n",
    "X_test_vectorized = vectorizer.transform(X_test)"
   ]
  },
  {
   "cell_type": "code",
   "execution_count": 21,
   "metadata": {},
   "outputs": [
    {
     "data": {
      "text/html": [
       "<style>#sk-container-id-1 {color: black;background-color: white;}#sk-container-id-1 pre{padding: 0;}#sk-container-id-1 div.sk-toggleable {background-color: white;}#sk-container-id-1 label.sk-toggleable__label {cursor: pointer;display: block;width: 100%;margin-bottom: 0;padding: 0.3em;box-sizing: border-box;text-align: center;}#sk-container-id-1 label.sk-toggleable__label-arrow:before {content: \"▸\";float: left;margin-right: 0.25em;color: #696969;}#sk-container-id-1 label.sk-toggleable__label-arrow:hover:before {color: black;}#sk-container-id-1 div.sk-estimator:hover label.sk-toggleable__label-arrow:before {color: black;}#sk-container-id-1 div.sk-toggleable__content {max-height: 0;max-width: 0;overflow: hidden;text-align: left;background-color: #f0f8ff;}#sk-container-id-1 div.sk-toggleable__content pre {margin: 0.2em;color: black;border-radius: 0.25em;background-color: #f0f8ff;}#sk-container-id-1 input.sk-toggleable__control:checked~div.sk-toggleable__content {max-height: 200px;max-width: 100%;overflow: auto;}#sk-container-id-1 input.sk-toggleable__control:checked~label.sk-toggleable__label-arrow:before {content: \"▾\";}#sk-container-id-1 div.sk-estimator input.sk-toggleable__control:checked~label.sk-toggleable__label {background-color: #d4ebff;}#sk-container-id-1 div.sk-label input.sk-toggleable__control:checked~label.sk-toggleable__label {background-color: #d4ebff;}#sk-container-id-1 input.sk-hidden--visually {border: 0;clip: rect(1px 1px 1px 1px);clip: rect(1px, 1px, 1px, 1px);height: 1px;margin: -1px;overflow: hidden;padding: 0;position: absolute;width: 1px;}#sk-container-id-1 div.sk-estimator {font-family: monospace;background-color: #f0f8ff;border: 1px dotted black;border-radius: 0.25em;box-sizing: border-box;margin-bottom: 0.5em;}#sk-container-id-1 div.sk-estimator:hover {background-color: #d4ebff;}#sk-container-id-1 div.sk-parallel-item::after {content: \"\";width: 100%;border-bottom: 1px solid gray;flex-grow: 1;}#sk-container-id-1 div.sk-label:hover label.sk-toggleable__label {background-color: #d4ebff;}#sk-container-id-1 div.sk-serial::before {content: \"\";position: absolute;border-left: 1px solid gray;box-sizing: border-box;top: 0;bottom: 0;left: 50%;z-index: 0;}#sk-container-id-1 div.sk-serial {display: flex;flex-direction: column;align-items: center;background-color: white;padding-right: 0.2em;padding-left: 0.2em;position: relative;}#sk-container-id-1 div.sk-item {position: relative;z-index: 1;}#sk-container-id-1 div.sk-parallel {display: flex;align-items: stretch;justify-content: center;background-color: white;position: relative;}#sk-container-id-1 div.sk-item::before, #sk-container-id-1 div.sk-parallel-item::before {content: \"\";position: absolute;border-left: 1px solid gray;box-sizing: border-box;top: 0;bottom: 0;left: 50%;z-index: -1;}#sk-container-id-1 div.sk-parallel-item {display: flex;flex-direction: column;z-index: 1;position: relative;background-color: white;}#sk-container-id-1 div.sk-parallel-item:first-child::after {align-self: flex-end;width: 50%;}#sk-container-id-1 div.sk-parallel-item:last-child::after {align-self: flex-start;width: 50%;}#sk-container-id-1 div.sk-parallel-item:only-child::after {width: 0;}#sk-container-id-1 div.sk-dashed-wrapped {border: 1px dashed gray;margin: 0 0.4em 0.5em 0.4em;box-sizing: border-box;padding-bottom: 0.4em;background-color: white;}#sk-container-id-1 div.sk-label label {font-family: monospace;font-weight: bold;display: inline-block;line-height: 1.2em;}#sk-container-id-1 div.sk-label-container {text-align: center;}#sk-container-id-1 div.sk-container {/* jupyter's `normalize.less` sets `[hidden] { display: none; }` but bootstrap.min.css set `[hidden] { display: none !important; }` so we also need the `!important` here to be able to override the default hidden behavior on the sphinx rendered scikit-learn.org. See: https://github.com/scikit-learn/scikit-learn/issues/21755 */display: inline-block !important;position: relative;}#sk-container-id-1 div.sk-text-repr-fallback {display: none;}</style><div id=\"sk-container-id-1\" class=\"sk-top-container\"><div class=\"sk-text-repr-fallback\"><pre>LinearSVC()</pre><b>In a Jupyter environment, please rerun this cell to show the HTML representation or trust the notebook. <br />On GitHub, the HTML representation is unable to render, please try loading this page with nbviewer.org.</b></div><div class=\"sk-container\" hidden><div class=\"sk-item\"><div class=\"sk-estimator sk-toggleable\"><input class=\"sk-toggleable__control sk-hidden--visually\" id=\"sk-estimator-id-1\" type=\"checkbox\" checked><label for=\"sk-estimator-id-1\" class=\"sk-toggleable__label sk-toggleable__label-arrow\">LinearSVC</label><div class=\"sk-toggleable__content\"><pre>LinearSVC()</pre></div></div></div></div></div>"
      ],
      "text/plain": [
       "LinearSVC()"
      ]
     },
     "execution_count": 21,
     "metadata": {},
     "output_type": "execute_result"
    }
   ],
   "source": [
    "clf = LinearSVC()\n",
    "clf.fit(X_train_vectorized,y_train)"
   ]
  },
  {
   "cell_type": "code",
   "execution_count": 22,
   "metadata": {},
   "outputs": [
    {
     "data": {
      "text/plain": [
       "0.9376479873717443"
      ]
     },
     "execution_count": 22,
     "metadata": {},
     "output_type": "execute_result"
    }
   ],
   "source": [
    "clf.score(X_test_vectorized,y_test)"
   ]
  },
  {
   "cell_type": "code",
   "execution_count": 23,
   "metadata": {},
   "outputs": [
    {
     "data": {
      "text/plain": [
       "1200.9893"
      ]
     },
     "execution_count": 23,
     "metadata": {},
     "output_type": "execute_result"
    }
   ],
   "source": [
    "len(y_test)*0.9479"
   ]
  },
  {
   "cell_type": "markdown",
   "metadata": {},
   "source": [
    "1200 were classified correctly"
   ]
  },
  {
   "cell_type": "code",
   "execution_count": 25,
   "metadata": {},
   "outputs": [],
   "source": [
    "with open(\"mytext.txt\",\"w\", encoding=\"utf-8\") as f:\n",
    "    f.write(X_test.iloc[10])"
   ]
  },
  {
   "cell_type": "code",
   "execution_count": 26,
   "metadata": {},
   "outputs": [],
   "source": [
    "with open(\"mytext.txt\",\"r\", encoding=\"utf-8\") as f:\n",
    "    text = f.read()"
   ]
  },
  {
   "cell_type": "code",
   "execution_count": 28,
   "metadata": {},
   "outputs": [
    {
     "data": {
      "text/plain": [
       "'On a late July day this past summer, a roar filled the sky over Cairo. It was the sound of Barack Obama’s capitulation to a dictator.\\n\\nEight new American fighter jets, freshly delivered from Washington, swooped low over the city, F-16s flying in formation. As they banked hard over the city’s center, they trailed plumes of red, white and black smoke—the colors of the Egyptian flag.\\n\\nFor Egypt’s brutally repressive president, General Abdel Fattah el-Sisi, the spectacle was a triumph, symbolizing not only his militaristic power at home, but also his victory over an American president who had tried to punish him before surrendering to the cold realities of geopolitics.\\n\\nJust two years earlier, Sisi had seized power in a military coup, toppling Mohamed Morsi, the democratically elected successor to Hosni Mubarak, himself a strongman of 30 years pushed out in early 2011 by mass protests in Cairo’s Tahrir Square. In the summer of 2013, Sisi followed his coup with a brutal crackdown that would have done Saddam Hussein proud. His security forces arrested thousands of people, including much of his political opposition, and in one bloody day that summer, they gunned down some 1,000 pro-Morsi protesters (or more) who were staging peaceful sit-ins. The massacre was shocking even by the standards of Egypt’s long-dismal human rights record.\\n\\nObama was appalled. “We can’t return to business as usual,” he declared after the slaughter. “We have to be very careful about being seen as aiding and abetting actions that we think run contrary to our values and ideals.”\\n\\nSeveral weeks later, Obama halted the planned delivery of U.S. military hardware to Cairo, including attack helicopters, Harpoon missiles and several F-16 fighter jets, as well as $260 million in cash transfers. He also cast doubt on the future of America’s $1.3 billion in annual military aid to Egypt—a subsidy on which Cairo depends heavily, and much more than the United States sends to any country in the world aside from Israel.\\n\\nBut a fierce internal debate soon broke out over whether and how to sanction Egypt further, a fight that many officials told me was one of the most agonizing of the Obama administration’s seven years, as the president’s most powerful advisers spent months engaged in what one called “trench warfare” against each other. It was an excruciating test of how to balance American values with its cold-blooded security interests in an age of terrorism. Some of Obama’s top White House aides, including his deputy national security adviser, Ben Rhodes, and the celebrated human rights champion Samantha Power, now U.S. ambassador to the United Nations, urged the president to link further military aid to clear progress by Sisi on human rights and democracy. But Secretary of State John Kerry, then-Defense Secretary Chuck Hagel and Hagel’s successor, Ash Carter, argued for restoring the aid. Trying to punish Sisi would have little effect on his behavior, they said, while alienating a bulwark against Islamic radicalism in an imploding Middle East. “Egypt was one of the most significant policy divides between the White House and the State Department and the Department of Defense,” says Matthew Spence, a former deputy assistant secretary of defense for Middle East policy.\\n\\nFor months, Obama tried to split the difference. In meetings and phone calls with the Egyptian ruler, by now paranoid and resentful about America’s intentions, Obama and Kerry urged Sisi to respect human rights, while also seeking his help in countering the the metastisizing Islamic State in nearby Syria and Iraq. Sisi did little of either.\\n\\nIn the end, Obama folded. This past March, he called Sisi once again, this time to explain that he would release the cash transfers and delayed hardware—including the F-16s—and end the administration’s threats to block the larger $1.3 billion annual aid package.\\n\\n“We caved,” says a former senior administration official who participated in the debates.\\n\\nIn a long conversation recently, Rhodes, the speechwriter turned national security aide who has been with Obama from the beginning of his presidency, didn’t mince words when it came to the years-long internal battle over Egypt. “We’re in that sweet spot where everyone is pissed off at us,” Rhodes told me.\\n\\nAnd not just about Egypt. The persistent problem of how to deal with American-allied strongmen has long tripped up a president who prefers pragmatic solutions to moral purity but has been unable to find much of either in the Middle East. While every U.S. president struggles to balance values like democracy and human rights with national security, Obama has struggled more than most because of the vast gap between his inspirational rhetoric and the compromises he has made with thuggish world leaders, especially—but by no means exclusively—in a Middle East where authoritarian heads of state from Riyadh to Cairo have cracked down with renewed vigor after the unsettling protests of the Arab Spring.\\n\\n“The rhetoric got way ahead of the policymaking,” says Michael Posner, who served as Obama’s top State Department official for human rights and democracy in his first term. “It … raised expectations that everything was going to change.”\\n\\n“He’s never quite melded his rhetoric with his policies,” says Dennis Ross, who served as Obama’s top Middle East aide in his first term. Adds Robert Ford, who was Obama’s ambassador to Syria before resigning in frustration over the president’s policy there: “It seems like we are swinging back to the idea that we must make a choice between supporting dictators or being safe.”\\n\\nTheir views were echoed in many of more than two dozen recent interviews with current and former administration officials, members of Congress, experts and activists—interviews that revealed a striking degree of frustration and disillusionment. Many Obama supporters started out believing that the president had grand ambitions for replacing George W. Bush’s militaristic posture with a more enlightened and progressive approach to the world before coming to believe they had misread a president who was not the idealistic internationalist they had thought he was.\\n\\nIn hindsight, it seems clear that Obama came to office far more focused on showing the world that the Bush era was over than on any coherent strategy of his own for advancing human rights or democracy.\\n\\nBut it didn’t seem that way at the time: Obama’s aides entered the White House full of plans for “dignity promotion”—a favorite phrase of Power’s meant to signal a contrast with Bush’s post-9/11 talk of “democracy promotion” and his second-term “Freedom Agenda” that many came to equate not with Bush’s lofty goal of “ending tyranny in our world” but with imposing Western values on countries like Iraq and Afghanistan at gunpoint.\\n\\n'"
      ]
     },
     "execution_count": 28,
     "metadata": {},
     "output_type": "execute_result"
    }
   ],
   "source": [
    "text"
   ]
  },
  {
   "cell_type": "code",
   "execution_count": 29,
   "metadata": {},
   "outputs": [],
   "source": [
    "vectorized_text = vectorizer.transform([text])"
   ]
  },
  {
   "cell_type": "code",
   "execution_count": 30,
   "metadata": {},
   "outputs": [
    {
     "data": {
      "text/plain": [
       "array([0], dtype=int64)"
      ]
     },
     "execution_count": 30,
     "metadata": {},
     "output_type": "execute_result"
    }
   ],
   "source": [
    "clf.predict(vectorized_text)"
   ]
  },
  {
   "cell_type": "code",
   "execution_count": 32,
   "metadata": {},
   "outputs": [
    {
     "data": {
      "text/plain": [
       "0"
      ]
     },
     "execution_count": 32,
     "metadata": {},
     "output_type": "execute_result"
    }
   ],
   "source": [
    "y_test.iloc[10]"
   ]
  }
 ],
 "metadata": {
  "kernelspec": {
   "display_name": "Python 3",
   "language": "python",
   "name": "python3"
  },
  "language_info": {
   "codemirror_mode": {
    "name": "ipython",
    "version": 3
   },
   "file_extension": ".py",
   "mimetype": "text/x-python",
   "name": "python",
   "nbconvert_exporter": "python",
   "pygments_lexer": "ipython3",
   "version": "3.11.4"
  }
 },
 "nbformat": 4,
 "nbformat_minor": 2
}
